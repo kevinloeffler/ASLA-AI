{
 "cells": [
  {
   "cell_type": "code",
   "execution_count": 55,
   "id": "initial_id",
   "metadata": {
    "collapsed": true,
    "ExecuteTime": {
     "end_time": "2023-11-03T18:50:33.504321Z",
     "start_time": "2023-11-03T18:50:33.486700Z"
    }
   },
   "outputs": [],
   "source": [
    "from lib.ner.models.transformer_model import TransformerModel\n",
    "from lib.ner.architecture import safe_predictions_to_csv"
   ]
  },
  {
   "cell_type": "code",
   "execution_count": null,
   "outputs": [],
   "source": [
    "!wandb login"
   ],
   "metadata": {
    "collapsed": false
   },
   "id": "2c77c2b1c4d6ec3d"
  },
  {
   "cell_type": "code",
   "execution_count": 57,
   "outputs": [],
   "source": [
    "model_configs = [\n",
    "    {'type': 'bert', 'name': 'bert-base-uncased'},\n",
    "    {'type': 'roberta', 'name': 'roberta-base'},\n",
    "]"
   ],
   "metadata": {
    "collapsed": false,
    "ExecuteTime": {
     "end_time": "2023-11-03T18:50:37.178863Z",
     "start_time": "2023-11-03T18:50:37.169969Z"
    }
   },
   "id": "de5cbc8825cc0c23"
  },
  {
   "cell_type": "markdown",
   "source": [
    "### Train model\n",
    "Change type and name, the model is safed to a directory called 'output'"
   ],
   "metadata": {
    "collapsed": false
   },
   "id": "63710bb42d7e108d"
  },
  {
   "cell_type": "code",
   "execution_count": null,
   "outputs": [],
   "source": [
    "model = TransformerModel(model_type=model_configs[0]['type'],\n",
    "                         model_name=model_configs[0]['name'],\n",
    "                         numbers_of_gpus=1,\n",
    "                         training_iterations=100)\n",
    "model.train(with_training_csv='test-data-generated.csv',\n",
    "            safe_to='')"
   ],
   "metadata": {
    "collapsed": false
   },
   "id": "53b080a4bfc51413"
  },
  {
   "cell_type": "markdown",
   "source": [
    "### Evaluate model\n",
    "Change type and name"
   ],
   "metadata": {
    "collapsed": false
   },
   "id": "7137d2688fdca7ed"
  },
  {
   "cell_type": "code",
   "execution_count": null,
   "outputs": [],
   "source": [
    "# use the same type of model as the one you trained with but replace the name with the path to model directory\n",
    "model = TransformerModel(model_type=model_configs[0]['type'],\n",
    "                         model_name='outputs',\n",
    "                         numbers_of_gpus=1,\n",
    "                         training_iterations=1)\n",
    "# change the name of the output file if you run it more than once (it won't override existing ones)\n",
    "performance = model.test(with_testing_csv='validation-data.csv',\n",
    "           output_file=f'model_evaluation/ner/test_mitra/{model_configs[0][\"name\"]}')\n",
    "safe_predictions_to_csv(to=f'model_evaluation/ner/test_mitra/{model_configs[0][\"name\"]}.csv', prediction_results=performance)"
   ],
   "metadata": {
    "collapsed": false
   },
   "id": "c1da375e05e34772"
  }
 ],
 "metadata": {
  "kernelspec": {
   "display_name": "Python 3",
   "language": "python",
   "name": "python3"
  },
  "language_info": {
   "codemirror_mode": {
    "name": "ipython",
    "version": 2
   },
   "file_extension": ".py",
   "mimetype": "text/x-python",
   "name": "python",
   "nbconvert_exporter": "python",
   "pygments_lexer": "ipython2",
   "version": "2.7.6"
  }
 },
 "nbformat": 4,
 "nbformat_minor": 5
}
